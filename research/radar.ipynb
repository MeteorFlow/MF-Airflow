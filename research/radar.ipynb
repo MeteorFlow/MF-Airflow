{
 "cells": [
  {
   "cell_type": "code",
   "execution_count": null,
   "metadata": {},
   "outputs": [],
   "source": [
    "%env PYART_QUIET=true"
   ]
  },
  {
   "cell_type": "code",
   "execution_count": null,
   "metadata": {},
   "outputs": [],
   "source": [
    "import os\n",
    "import glob\n",
    "import numpy as np\n",
    "import xarray as xr\n",
    "import netCDF4 as nc\n",
    "from tqdm import tqdm\n",
    "from matplotlib import pyplot as plt\n",
    "import wradlib as wrl\n",
    "from matplotlib.widgets import Cursor \n",
    "import matplotlib\n",
    "import datetime\n",
    "import cartopy\n",
    "import pandas as pd"
   ]
  },
  {
   "cell_type": "code",
   "execution_count": null,
   "metadata": {},
   "outputs": [],
   "source": [
    "MAP_PROJECTION = cartopy.crs.PlateCarree()"
   ]
  },
  {
   "cell_type": "code",
   "execution_count": null,
   "metadata": {},
   "outputs": [],
   "source": [
    "import pyart\n",
    "\n",
    "# Đường dẫn đến tập tin dữ liệu radar\n",
    "# file_path = 'NHB230602000007.RAWLHXD'\n",
    "file_path = '2023-06-01T06:00'\n",
    "\n",
    "# Đọc tập tin radar\n",
    "radar = pyart.io.read(file_path)\n",
    "\n",
    "# # Hiển thị thông tin cơ bản về radar\n",
    "print(radar.info())"
   ]
  },
  {
   "cell_type": "code",
   "execution_count": null,
   "metadata": {},
   "outputs": [],
   "source": [
    "from matplotlib.axes import Axes\n",
    "from matplotlib.figure import Figure\n",
    "\n",
    "\n",
    "processed_grid = pyart.map.grid_from_radars(\n",
    "    radar,\n",
    "    grid_shape=(100, 640, 640),\n",
    "    grid_limits=((1000, 2000), (-300_000, 300_000), (-300_000, 300_000)),\n",
    ")\n",
    "\n",
    "# data = processed_grid.fields['velocity']['data'].data[0]\n",
    "# fig = plt.figure()\n",
    "\n",
    "# grid_display = pyart.graph.GridMapDisplay(processed_grid)\n",
    "# grid_display.plot_grid(\n",
    "#     # \"reflectivity\", cmap=\"pyart_HomeyerRainbow\", vmin=0, vmax=5,fig=fig, projection=MAP_PROJECTION\n",
    "#     \"reflectivity\", cmap=\"pyart_HomeyerRainbow\",fig=fig, projection=MAP_PROJECTION\n",
    "# )\n",
    "\n",
    "# # Extract reflectivity data from the grid\n",
    "# reflectivity_data = processed_grid.fields['reflectivity']['data'][:]\n",
    "\n",
    "# # Find maximum reflectivity at each grid point across all PPI sweeps\n",
    "# cmax_data = np.max(reflectivity_data, axis=0)\n",
    "\n",
    "# # for i in range(0,100):\n",
    "# #     processed_grid.fields['reflectivity']['data'][i] = cmax_data\n",
    "# processed_grid.fields['reflectivity']['data'][0:100] = cmax_data\n",
    "\n",
    "\n",
    "fig: Figure\n",
    "ax: Axes\n",
    "fig = plt.figure(dpi=1000)\n",
    "\n",
    "ax = plt.axes(projection=MAP_PROJECTION)\n",
    "\n",
    "ax.add_feature(\n",
    "    cartopy.feature.NaturalEarthFeature(\n",
    "        category=\"physical\", name=\"coastline\", scale=\"10m\", facecolor=\"none\"\n",
    "    ),\n",
    "    linestyle=\"-\",\n",
    "    edgecolor=\"k\",\n",
    "    linewidth=1,\n",
    ")\n",
    "\n",
    "grid_display = pyart.graph.GridMapDisplay(processed_grid)\n",
    "grid_display.plot_grid(\n",
    "    field=\"reflectivity\",\n",
    "    level=3,\n",
    "    cmap=\"pyart_HomeyerRainbow\",\n",
    "    fig=fig,\n",
    "    ax=ax,\n",
    "    projection=MAP_PROJECTION,\n",
    "    embellish=False,\n",
    "    lon_lines=np.linspace(\n",
    "        np.round(processed_grid.to_xarray().lon.min(), 2),\n",
    "        np.round(processed_grid.to_xarray().lon.max(), 2),\n",
    "        5,\n",
    "    ),\n",
    "    lat_lines=np.linspace(\n",
    "        np.round(processed_grid.to_xarray().lat.min(), 2),\n",
    "        np.round(processed_grid.to_xarray().lat.max(), 2),\n",
    "        5,\n",
    "    ),\n",
    ")\n"
   ]
  }
 ],
 "metadata": {
  "language_info": {
   "name": "python"
  }
 },
 "nbformat": 4,
 "nbformat_minor": 2
}
