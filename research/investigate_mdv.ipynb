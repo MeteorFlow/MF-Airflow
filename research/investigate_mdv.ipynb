{
 "cells": [
  {
   "cell_type": "code",
   "execution_count": 1,
   "metadata": {},
   "outputs": [
    {
     "name": "stdout",
     "output_type": "stream",
     "text": [
      "env: PYART_QUIET=true\n"
     ]
    }
   ],
   "source": [
    "%env PYART_QUIET=true"
   ]
  },
  {
   "cell_type": "code",
   "execution_count": 2,
   "metadata": {},
   "outputs": [],
   "source": [
    "import pyart"
   ]
  },
  {
   "cell_type": "code",
   "execution_count": 22,
   "metadata": {},
   "outputs": [
    {
     "name": "stderr",
     "output_type": "stream",
     "text": [
      "/Users/ducth/.pyenv/versions/3.11.7/envs/MF-Airflow/lib/python3.11/site-packages/pyart/io/mdv_grid.py:364: UserWarning: While reading MDV found unexpected 'vlevel_type' (1), units in the z axis set to 'unknown'\n",
      "  warnings.warn(\n"
     ]
    }
   ],
   "source": [
    "mdv_data = pyart.io.read_grid_mdv('../data/convert/mdv/search_matrix/20201230/000851.mdv')"
   ]
  },
  {
   "cell_type": "code",
   "execution_count": 23,
   "metadata": {},
   "outputs": [
    {
     "data": {
      "text/plain": [
       "{'time': {'units': 'seconds since 2020-12-30T00:03:03Z',\n",
       "  'standard_name': 'time',\n",
       "  'long_name': 'Time of grid',\n",
       "  'calendar': 'gregorian',\n",
       "  'data': array([348])},\n",
       " 'fields': {},\n",
       " 'metadata': {'Conventions': 'CF/Radial instrument_parameters',\n",
       "  'version': '1.3',\n",
       "  'title': '',\n",
       "  'institution': '',\n",
       "  'references': '',\n",
       "  'source': 'Sigmet RAW file: Applying azimuth offset: 0, time 2021/03/22 03:41:29\\nApplying elevation offset: 0, time 2021/03/22 03:41:29\\n',\n",
       "  'history': '',\n",
       "  'comment': '',\n",
       "  'instrument_name': 'Sigmet IRIS software'},\n",
       " 'origin_latitude': {'long_name': 'Latitude at grid origin',\n",
       "  'units': 'degrees_north',\n",
       "  'standard_name': 'latitude',\n",
       "  'valid_min': -90.0,\n",
       "  'valid_max': 90.0,\n",
       "  'data': array([15.56752014])},\n",
       " 'origin_longitude': {'long_name': 'Longitude at grid origin',\n",
       "  'units': 'degrees_east',\n",
       "  'standard_name': 'longitude',\n",
       "  'valid_min': -180.0,\n",
       "  'valid_max': 180.0,\n",
       "  'data': array([108.46240234])},\n",
       " 'origin_altitude': {'long_name': 'Altitude at grid origin',\n",
       "  'units': 'm',\n",
       "  'standard_name': 'altitude',\n",
       "  'data': array([52.00000107])},\n",
       " 'x': {'standard_name': 'projection_x_coordinate',\n",
       "  'long_name': 'X distance on the projection plane from the origin',\n",
       "  'axis': 'X',\n",
       "  'units': 'degree_E',\n",
       "  'data': array([0.00000000e+00, 9.99999978e-03, 1.99999996e-02, ...,\n",
       "         3.79799992e+01, 3.79899992e+01, 3.79999992e+01])},\n",
       " 'y': {'standard_name': 'projection_y_coordinate',\n",
       "  'long_name': 'Y distance on the projection plane from the origin',\n",
       "  'axis': 'Y',\n",
       "  'units': 'degree_N',\n",
       "  'data': array([-5.69999981e+00, -5.59999981e+00, -5.49999981e+00, -5.39999980e+00,\n",
       "         -5.29999980e+00, -5.19999980e+00, -5.09999980e+00, -4.99999980e+00,\n",
       "         -4.89999980e+00, -4.79999980e+00, -4.69999979e+00, -4.59999979e+00,\n",
       "         -4.49999979e+00, -4.39999979e+00, -4.29999979e+00, -4.19999979e+00,\n",
       "         -4.09999979e+00, -3.99999978e+00, -3.89999978e+00, -3.79999978e+00,\n",
       "         -3.69999978e+00, -3.59999978e+00, -3.49999978e+00, -3.39999977e+00,\n",
       "         -3.29999977e+00, -3.19999977e+00, -3.09999977e+00, -2.99999977e+00,\n",
       "         -2.89999977e+00, -2.79999977e+00, -2.69999976e+00, -2.59999976e+00,\n",
       "         -2.49999976e+00, -2.39999976e+00, -2.29999976e+00, -2.19999976e+00,\n",
       "         -2.09999976e+00, -1.99999975e+00, -1.89999975e+00, -1.79999975e+00,\n",
       "         -1.69999975e+00, -1.59999975e+00, -1.49999975e+00, -1.39999975e+00,\n",
       "         -1.29999974e+00, -1.19999974e+00, -1.09999974e+00, -9.99999739e-01,\n",
       "         -8.99999738e-01, -7.99999736e-01, -6.99999735e-01, -5.99999733e-01,\n",
       "         -4.99999732e-01, -3.99999730e-01, -2.99999729e-01, -1.99999727e-01,\n",
       "         -9.99997258e-02,  2.75671482e-07,  1.00000277e-01,  2.00000279e-01,\n",
       "          3.00000280e-01,  4.00000282e-01,  5.00000283e-01,  6.00000285e-01,\n",
       "          7.00000286e-01,  8.00000288e-01,  9.00000289e-01,  1.00000029e+00,\n",
       "          1.10000029e+00,  1.20000029e+00,  1.30000030e+00,  1.40000030e+00,\n",
       "          1.50000030e+00,  1.60000030e+00,  1.70000030e+00,  1.80000030e+00,\n",
       "          1.90000030e+00,  2.00000031e+00,  2.10000031e+00,  2.20000031e+00,\n",
       "          2.30000031e+00,  2.40000031e+00,  2.50000031e+00,  2.60000031e+00,\n",
       "          2.70000032e+00,  2.80000032e+00,  2.90000032e+00,  3.00000032e+00,\n",
       "          3.10000032e+00,  3.20000032e+00,  3.30000032e+00,  3.40000033e+00,\n",
       "          3.50000033e+00,  3.60000033e+00,  3.70000033e+00,  3.80000033e+00,\n",
       "          3.90000033e+00,  4.00000034e+00,  4.10000034e+00,  4.20000034e+00,\n",
       "          4.30000034e+00,  4.40000034e+00,  4.50000034e+00,  4.60000034e+00,\n",
       "          4.70000035e+00,  4.80000035e+00,  4.90000035e+00,  5.00000035e+00,\n",
       "          5.10000035e+00,  5.20000035e+00,  5.30000035e+00,  5.40000036e+00,\n",
       "          5.50000036e+00,  5.60000036e+00,  5.70000036e+00,  5.80000036e+00,\n",
       "          5.90000036e+00,  6.00000037e+00,  6.10000037e+00,  6.20000037e+00,\n",
       "          6.30000037e+00,  6.40000037e+00,  6.50000037e+00,  6.60000037e+00,\n",
       "          6.70000038e+00,  6.80000038e+00,  6.90000038e+00,  7.00000038e+00,\n",
       "          7.10000038e+00,  7.20000038e+00,  7.30000038e+00,  7.40000039e+00,\n",
       "          7.50000039e+00,  7.60000039e+00,  7.70000039e+00,  7.80000039e+00,\n",
       "          7.90000039e+00,  8.00000039e+00,  8.10000040e+00,  8.20000040e+00,\n",
       "          8.30000040e+00,  8.40000040e+00,  8.50000040e+00,  8.60000040e+00,\n",
       "          8.70000041e+00,  8.80000041e+00,  8.90000041e+00,  9.00000041e+00,\n",
       "          9.10000041e+00,  9.20000041e+00,  9.30000041e+00,  9.40000042e+00,\n",
       "          9.50000042e+00,  9.60000042e+00,  9.70000042e+00,  9.80000042e+00,\n",
       "          9.90000042e+00,  1.00000004e+01,  1.01000004e+01,  1.02000004e+01,\n",
       "          1.03000004e+01,  1.04000004e+01,  1.05000004e+01,  1.06000004e+01,\n",
       "          1.07000004e+01,  1.08000004e+01,  1.09000004e+01,  1.10000004e+01,\n",
       "          1.11000004e+01,  1.12000004e+01,  1.13000004e+01,  1.14000004e+01,\n",
       "          1.15000004e+01,  1.16000004e+01,  1.17000005e+01,  1.18000005e+01,\n",
       "          1.19000005e+01,  1.20000005e+01,  1.21000005e+01,  1.22000005e+01,\n",
       "          1.23000005e+01,  1.24000005e+01,  1.25000005e+01,  1.26000005e+01,\n",
       "          1.27000005e+01,  1.28000005e+01,  1.29000005e+01,  1.30000005e+01,\n",
       "          1.31000005e+01,  1.32000005e+01,  1.33000005e+01,  1.34000005e+01,\n",
       "          1.35000005e+01,  1.36000005e+01,  1.37000005e+01,  1.38000005e+01,\n",
       "          1.39000005e+01,  1.40000005e+01,  1.41000005e+01,  1.42000005e+01,\n",
       "          1.43000005e+01,  1.44000005e+01,  1.45000005e+01,  1.46000005e+01,\n",
       "          1.47000005e+01,  1.48000005e+01,  1.49000005e+01,  1.50000005e+01,\n",
       "          1.51000005e+01,  1.52000005e+01,  1.53000005e+01,  1.54000005e+01,\n",
       "          1.55000005e+01,  1.56000005e+01,  1.57000005e+01,  1.58000005e+01,\n",
       "          1.59000005e+01,  1.60000005e+01,  1.61000005e+01,  1.62000005e+01,\n",
       "          1.63000005e+01,  1.64000005e+01,  1.65000005e+01,  1.66000005e+01,\n",
       "          1.67000005e+01,  1.68000005e+01,  1.69000005e+01,  1.70000005e+01,\n",
       "          1.71000005e+01,  1.72000005e+01,  1.73000005e+01,  1.74000005e+01,\n",
       "          1.75000005e+01,  1.76000005e+01,  1.77000005e+01,  1.78000005e+01,\n",
       "          1.79000005e+01,  1.80000005e+01,  1.81000005e+01])},\n",
       " 'z': {'standard_name': 'projection_z_coordinate',\n",
       "  'long_name': 'Z distance on the projection plane from the origin',\n",
       "  'axis': 'Z',\n",
       "  'units': 'unknown',\n",
       "  'positive': 'up',\n",
       "  'data': array([0.])},\n",
       " 'nx': 3801,\n",
       " 'ny': 239,\n",
       " 'nz': 1,\n",
       " 'projection': {'proj': 'pyart_aeqd', '_include_lon_0_lat_0': True},\n",
       " 'radar_latitude': None,\n",
       " 'radar_longitude': None,\n",
       " 'radar_altitude': None,\n",
       " 'radar_time': None,\n",
       " 'radar_name': None,\n",
       " 'nradar': 0,\n",
       " 'point_x': <pyart.lazydict.LazyLoadDict at 0x16b7eff10>,\n",
       " 'point_y': <pyart.lazydict.LazyLoadDict at 0x177c08810>,\n",
       " 'point_z': <pyart.lazydict.LazyLoadDict at 0x16b7ec490>,\n",
       " 'point_longitude': <pyart.lazydict.LazyLoadDict at 0x16b7ed050>,\n",
       " 'point_latitude': <pyart.lazydict.LazyLoadDict at 0x16b188c10>,\n",
       " 'point_altitude': <pyart.lazydict.LazyLoadDict at 0x16b188b50>}"
      ]
     },
     "execution_count": 23,
     "metadata": {},
     "output_type": "execute_result"
    }
   ],
   "source": [
    "vars(mdv_data)"
   ]
  },
  {
   "cell_type": "code",
   "execution_count": null,
   "metadata": {},
   "outputs": [],
   "source": []
  }
 ],
 "metadata": {
  "kernelspec": {
   "display_name": "MF-Airflow",
   "language": "python",
   "name": "python3"
  },
  "language_info": {
   "codemirror_mode": {
    "name": "ipython",
    "version": 3
   },
   "file_extension": ".py",
   "mimetype": "text/x-python",
   "name": "python",
   "nbconvert_exporter": "python",
   "pygments_lexer": "ipython3",
   "version": "3.11.7"
  }
 },
 "nbformat": 4,
 "nbformat_minor": 2
}
